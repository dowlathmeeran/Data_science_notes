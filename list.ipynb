{
 "cells": [
  {
   "cell_type": "code",
   "execution_count": null,
   "id": "b1ac5c5e",
   "metadata": {},
   "outputs": [],
   "source": [
    "LIST\n",
    "TUPLE\n",
    "STRING"
   ]
  },
  {
   "cell_type": "markdown",
   "id": "e563eda3",
   "metadata": {},
   "source": [
    "list operations"
   ]
  },
  {
   "cell_type": "code",
   "execution_count": 11,
   "id": "79f40b28",
   "metadata": {},
   "outputs": [],
   "source": [
    "players = [\"dhoni\",\"kholi\",\"ronaldo\",\"messi\",\"rossi\",\"paul\"]"
   ]
  },
  {
   "cell_type": "code",
   "execution_count": null,
   "id": "cf233c65",
   "metadata": {},
   "outputs": [],
   "source": [
    "players---> dhoni  kholi  ronaldo   messi rossi  paul \n",
    "              0      1       2.       3.    4.    5\n",
    "            -6      -5       -4       -3    -2     -1"
   ]
  },
  {
   "cell_type": "markdown",
   "id": "c256cfd1",
   "metadata": {},
   "source": [
    "# indexing"
   ]
  },
  {
   "cell_type": "code",
   "execution_count": 6,
   "id": "27b463ff",
   "metadata": {},
   "outputs": [
    {
     "data": {
      "text/plain": [
       "'rossi'"
      ]
     },
     "execution_count": 6,
     "metadata": {},
     "output_type": "execute_result"
    }
   ],
   "source": [
    "players[4]"
   ]
  },
  {
   "cell_type": "code",
   "execution_count": 12,
   "id": "adda7724",
   "metadata": {},
   "outputs": [
    {
     "data": {
      "text/plain": [
       "'kholi'"
      ]
     },
     "execution_count": 12,
     "metadata": {},
     "output_type": "execute_result"
    }
   ],
   "source": [
    "players[-5]"
   ]
  },
  {
   "cell_type": "markdown",
   "id": "4d091f3e",
   "metadata": {},
   "source": [
    "getting values through given range"
   ]
  },
  {
   "cell_type": "markdown",
   "id": "06c342ee",
   "metadata": {},
   "source": [
    "slicing"
   ]
  },
  {
   "cell_type": "code",
   "execution_count": 15,
   "id": "eabc5a64",
   "metadata": {},
   "outputs": [
    {
     "data": {
      "text/plain": [
       "['dhoni', 'ronaldo', 'rossi']"
      ]
     },
     "execution_count": 15,
     "metadata": {},
     "output_type": "execute_result"
    }
   ],
   "source": [
    "players[0:5:2]"
   ]
  },
  {
   "cell_type": "code",
   "execution_count": 18,
   "id": "7437c0ac",
   "metadata": {},
   "outputs": [
    {
     "data": {
      "text/plain": [
       "['ronaldo', 'messi', 'rossi']"
      ]
     },
     "execution_count": 18,
     "metadata": {},
     "output_type": "execute_result"
    }
   ],
   "source": [
    "players[2:5]"
   ]
  },
  {
   "cell_type": "code",
   "execution_count": 20,
   "id": "2bd647e3",
   "metadata": {},
   "outputs": [
    {
     "data": {
      "text/plain": [
       "['messi', 'rossi', 'paul']"
      ]
     },
     "execution_count": 20,
     "metadata": {},
     "output_type": "execute_result"
    }
   ],
   "source": [
    "players[3:]"
   ]
  },
  {
   "cell_type": "code",
   "execution_count": 21,
   "id": "8e48db59",
   "metadata": {},
   "outputs": [
    {
     "data": {
      "text/plain": [
       "['dhoni', 'kholi', 'ronaldo', 'messi', 'rossi', 'paul']"
      ]
     },
     "execution_count": 21,
     "metadata": {},
     "output_type": "execute_result"
    }
   ],
   "source": [
    "players[:]"
   ]
  },
  {
   "cell_type": "code",
   "execution_count": 22,
   "id": "c8ab1d5c",
   "metadata": {},
   "outputs": [
    {
     "data": {
      "text/plain": [
       "['dhoni', 'kholi', 'ronaldo', 'messi', 'rossi']"
      ]
     },
     "execution_count": 22,
     "metadata": {},
     "output_type": "execute_result"
    }
   ],
   "source": [
    "players[:-1]"
   ]
  },
  {
   "cell_type": "code",
   "execution_count": 12,
   "id": "241baa18",
   "metadata": {},
   "outputs": [
    {
     "data": {
      "text/plain": [
       "['messi', 'rossi']"
      ]
     },
     "execution_count": 12,
     "metadata": {},
     "output_type": "execute_result"
    }
   ],
   "source": [
    "players[-3:-1]"
   ]
  },
  {
   "cell_type": "code",
   "execution_count": 13,
   "id": "badd311c",
   "metadata": {},
   "outputs": [
    {
     "data": {
      "text/plain": [
       "['messi', 'rossi', 'paul']"
      ]
     },
     "execution_count": 13,
     "metadata": {},
     "output_type": "execute_result"
    }
   ],
   "source": [
    "players[-3:]"
   ]
  },
  {
   "cell_type": "markdown",
   "id": "3fbbef0e",
   "metadata": {},
   "source": [
    "updating values"
   ]
  },
  {
   "cell_type": "code",
   "execution_count": 24,
   "id": "6befa926",
   "metadata": {},
   "outputs": [],
   "source": [
    "play_ers = players.copy()"
   ]
  },
  {
   "cell_type": "code",
   "execution_count": 25,
   "id": "5811a021",
   "metadata": {},
   "outputs": [
    {
     "data": {
      "text/plain": [
       "['dhoni', 'kholi', 'ronaldo', 'messi', 'rossi', 'paul']"
      ]
     },
     "execution_count": 25,
     "metadata": {},
     "output_type": "execute_result"
    }
   ],
   "source": [
    "play_ers"
   ]
  },
  {
   "cell_type": "code",
   "execution_count": 26,
   "id": "af5bf5ca",
   "metadata": {},
   "outputs": [],
   "source": [
    "play_ers[3]=\"diago\""
   ]
  },
  {
   "cell_type": "code",
   "execution_count": 27,
   "id": "46f35cba",
   "metadata": {},
   "outputs": [
    {
     "data": {
      "text/plain": [
       "['dhoni', 'kholi', 'ronaldo', 'diago', 'rossi', 'paul']"
      ]
     },
     "execution_count": 27,
     "metadata": {},
     "output_type": "execute_result"
    }
   ],
   "source": [
    "play_ers"
   ]
  },
  {
   "cell_type": "markdown",
   "id": "bbd0adf6",
   "metadata": {},
   "source": [
    "in_built functions"
   ]
  },
  {
   "cell_type": "code",
   "execution_count": 30,
   "id": "e2b25d3c",
   "metadata": {},
   "outputs": [],
   "source": [
    "play_ers.append(\"sachin\")"
   ]
  },
  {
   "cell_type": "code",
   "execution_count": 31,
   "id": "b37d6ef6",
   "metadata": {},
   "outputs": [
    {
     "data": {
      "text/plain": [
       "['dhoni', 'kholi', 'ronaldo', 'diago', 'rossi', 'paul', 'rohith', 'sachin']"
      ]
     },
     "execution_count": 31,
     "metadata": {},
     "output_type": "execute_result"
    }
   ],
   "source": [
    "play_ers"
   ]
  },
  {
   "cell_type": "code",
   "execution_count": 32,
   "id": "2b640d56",
   "metadata": {},
   "outputs": [],
   "source": [
    "names = [\"sanju\",\"kl rahul\"]"
   ]
  },
  {
   "cell_type": "markdown",
   "id": "aaf70ab7",
   "metadata": {},
   "source": [
    "concatenation"
   ]
  },
  {
   "cell_type": "code",
   "execution_count": 33,
   "id": "5f83a8bc",
   "metadata": {},
   "outputs": [],
   "source": [
    "new_list = play_ers+names"
   ]
  },
  {
   "cell_type": "code",
   "execution_count": 34,
   "id": "93c4bdd8",
   "metadata": {},
   "outputs": [
    {
     "data": {
      "text/plain": [
       "['dhoni',\n",
       " 'kholi',\n",
       " 'ronaldo',\n",
       " 'diago',\n",
       " 'rossi',\n",
       " 'paul',\n",
       " 'rohith',\n",
       " 'sachin',\n",
       " 'sanju',\n",
       " 'kl rahul']"
      ]
     },
     "execution_count": 34,
     "metadata": {},
     "output_type": "execute_result"
    }
   ],
   "source": [
    "new_list"
   ]
  },
  {
   "cell_type": "code",
   "execution_count": 37,
   "id": "7fd1f44b",
   "metadata": {},
   "outputs": [
    {
     "data": {
      "text/plain": [
       "['dhoni', 'kholi', 'ronaldo', 'diago', 'rossi', 'paul', 'rohith', 'sachin']"
      ]
     },
     "execution_count": 37,
     "metadata": {},
     "output_type": "execute_result"
    }
   ],
   "source": [
    "play_ers"
   ]
  },
  {
   "cell_type": "code",
   "execution_count": 38,
   "id": "9dc528f5",
   "metadata": {},
   "outputs": [],
   "source": [
    "play_ers.extend(names)"
   ]
  },
  {
   "cell_type": "code",
   "execution_count": 40,
   "id": "2409bfcd",
   "metadata": {},
   "outputs": [
    {
     "data": {
      "text/plain": [
       "['dhoni',\n",
       " 'kholi',\n",
       " 'ronaldo',\n",
       " 'diago',\n",
       " 'rossi',\n",
       " 'paul',\n",
       " 'rohith',\n",
       " 'sachin',\n",
       " 'sanju',\n",
       " 'kl rahul']"
      ]
     },
     "execution_count": 40,
     "metadata": {},
     "output_type": "execute_result"
    }
   ],
   "source": [
    "play_ers"
   ]
  },
  {
   "cell_type": "code",
   "execution_count": 41,
   "id": "d7ff8268",
   "metadata": {},
   "outputs": [],
   "source": [
    "play_ers.insert(1,\"raina\")"
   ]
  },
  {
   "cell_type": "code",
   "execution_count": 43,
   "id": "91f690d0",
   "metadata": {},
   "outputs": [
    {
     "data": {
      "text/plain": [
       "['dhoni',\n",
       " 'raina',\n",
       " 'kholi',\n",
       " 'ronaldo',\n",
       " 'diago',\n",
       " 'rossi',\n",
       " 'paul',\n",
       " 'rohith',\n",
       " 'sachin',\n",
       " 'sanju',\n",
       " 'kl rahul']"
      ]
     },
     "execution_count": 43,
     "metadata": {},
     "output_type": "execute_result"
    }
   ],
   "source": [
    "play_ers"
   ]
  },
  {
   "cell_type": "code",
   "execution_count": 44,
   "id": "76434a1e",
   "metadata": {},
   "outputs": [],
   "source": [
    "play_ers.remove(\"sanju\")"
   ]
  },
  {
   "cell_type": "code",
   "execution_count": 45,
   "id": "3485cfca",
   "metadata": {},
   "outputs": [
    {
     "data": {
      "text/plain": [
       "['dhoni',\n",
       " 'raina',\n",
       " 'kholi',\n",
       " 'ronaldo',\n",
       " 'diago',\n",
       " 'rossi',\n",
       " 'paul',\n",
       " 'rohith',\n",
       " 'sachin',\n",
       " 'kl rahul']"
      ]
     },
     "execution_count": 45,
     "metadata": {},
     "output_type": "execute_result"
    }
   ],
   "source": [
    "play_ers"
   ]
  },
  {
   "cell_type": "code",
   "execution_count": 46,
   "id": "00b080e1",
   "metadata": {},
   "outputs": [
    {
     "data": {
      "text/plain": [
       "3"
      ]
     },
     "execution_count": 46,
     "metadata": {},
     "output_type": "execute_result"
    }
   ],
   "source": [
    "play_ers.index('ronaldo')"
   ]
  },
  {
   "cell_type": "code",
   "execution_count": 47,
   "id": "70057fd6",
   "metadata": {},
   "outputs": [],
   "source": [
    "play_ers.sort()"
   ]
  },
  {
   "cell_type": "code",
   "execution_count": 95,
   "id": "b6342a72",
   "metadata": {},
   "outputs": [
    {
     "data": {
      "text/plain": [
       "['dhoni', 'kholi', 'ronaldo', 'messi', 'rossi', 'paul', 'sanju', 'kl rahul']"
      ]
     },
     "execution_count": 95,
     "metadata": {},
     "output_type": "execute_result"
    }
   ],
   "source": [
    "players"
   ]
  },
  {
   "cell_type": "code",
   "execution_count": 96,
   "id": "c7cfff9e",
   "metadata": {},
   "outputs": [
    {
     "data": {
      "text/plain": [
       "['kl rahul', 'sanju', 'paul', 'rossi', 'messi', 'ronaldo', 'kholi', 'dhoni']"
      ]
     },
     "execution_count": 96,
     "metadata": {},
     "output_type": "execute_result"
    }
   ],
   "source": [
    "players[::-1]"
   ]
  },
  {
   "cell_type": "code",
   "execution_count": 54,
   "id": "ec7d3424",
   "metadata": {},
   "outputs": [],
   "source": [
    "numbers = [100,400,700,1,5,8,9,5,2,3,6,7]"
   ]
  },
  {
   "cell_type": "code",
   "execution_count": 55,
   "id": "24071b2e",
   "metadata": {},
   "outputs": [],
   "source": [
    "numbers.sort()"
   ]
  },
  {
   "cell_type": "code",
   "execution_count": 56,
   "id": "2af8b340",
   "metadata": {},
   "outputs": [
    {
     "data": {
      "text/plain": [
       "[1, 2, 3, 5, 5, 6, 7, 8, 9, 100, 400, 700]"
      ]
     },
     "execution_count": 56,
     "metadata": {},
     "output_type": "execute_result"
    }
   ],
   "source": [
    "numbers"
   ]
  },
  {
   "cell_type": "code",
   "execution_count": 57,
   "id": "3533b8a2",
   "metadata": {},
   "outputs": [],
   "source": [
    "numbers.reverse()"
   ]
  },
  {
   "cell_type": "code",
   "execution_count": 58,
   "id": "ea13864f",
   "metadata": {},
   "outputs": [
    {
     "data": {
      "text/plain": [
       "[700, 400, 100, 9, 8, 7, 6, 5, 5, 3, 2, 1]"
      ]
     },
     "execution_count": 58,
     "metadata": {},
     "output_type": "execute_result"
    }
   ],
   "source": [
    "numbers"
   ]
  },
  {
   "cell_type": "code",
   "execution_count": 59,
   "id": "5c2a9358",
   "metadata": {},
   "outputs": [
    {
     "name": "stdout",
     "output_type": "stream",
     "text": [
      "[700, 400, 100, 9, 8, 7, 6, 5, 5, 3, 2, 1, 700, 400, 100, 9, 8, 7, 6, 5, 5, 3, 2, 1, 700, 400, 100, 9, 8, 7, 6, 5, 5, 3, 2, 1]\n"
     ]
    }
   ],
   "source": [
    "print(numbers*3)"
   ]
  },
  {
   "cell_type": "code",
   "execution_count": 65,
   "id": "3712f6d0",
   "metadata": {},
   "outputs": [],
   "source": [
    "a = [[1,2,3,4,5],[6,7,8,9],5,[10,11,12],9,0]"
   ]
  },
  {
   "cell_type": "code",
   "execution_count": 75,
   "id": "ce90610d",
   "metadata": {},
   "outputs": [],
   "source": [
    "r=a[0]"
   ]
  },
  {
   "cell_type": "code",
   "execution_count": 76,
   "id": "301dc449",
   "metadata": {},
   "outputs": [
    {
     "data": {
      "text/plain": [
       "[1, 2, 3, 4, 5]"
      ]
     },
     "execution_count": 76,
     "metadata": {},
     "output_type": "execute_result"
    }
   ],
   "source": [
    "r"
   ]
  },
  {
   "cell_type": "code",
   "execution_count": 77,
   "id": "e7ca4173",
   "metadata": {},
   "outputs": [],
   "source": [
    "a.remove(r)"
   ]
  },
  {
   "cell_type": "code",
   "execution_count": 78,
   "id": "f624ef42",
   "metadata": {},
   "outputs": [
    {
     "data": {
      "text/plain": [
       "[[10, 11, 12], 9, 0, 'hello']"
      ]
     },
     "execution_count": 78,
     "metadata": {},
     "output_type": "execute_result"
    }
   ],
   "source": [
    "a"
   ]
  },
  {
   "cell_type": "code",
   "execution_count": 79,
   "id": "19a0a0e8",
   "metadata": {},
   "outputs": [],
   "source": [
    "a.insert(1,r)"
   ]
  },
  {
   "cell_type": "code",
   "execution_count": 80,
   "id": "c4a39008",
   "metadata": {},
   "outputs": [
    {
     "data": {
      "text/plain": [
       "[[10, 11, 12], [1, 2, 3, 4, 5], 9, 0, 'hello']"
      ]
     },
     "execution_count": 80,
     "metadata": {},
     "output_type": "execute_result"
    }
   ],
   "source": [
    "a"
   ]
  },
  {
   "cell_type": "code",
   "execution_count": 84,
   "id": "91bf5069",
   "metadata": {},
   "outputs": [],
   "source": [
    "t=a.pop()"
   ]
  },
  {
   "cell_type": "code",
   "execution_count": 85,
   "id": "f9d37628",
   "metadata": {},
   "outputs": [
    {
     "data": {
      "text/plain": [
       "9"
      ]
     },
     "execution_count": 85,
     "metadata": {},
     "output_type": "execute_result"
    }
   ],
   "source": [
    "t"
   ]
  },
  {
   "cell_type": "code",
   "execution_count": 86,
   "id": "eea64e8d",
   "metadata": {},
   "outputs": [],
   "source": [
    "a = ('dhoni', 'kholi', 'ronaldo', 'messi', 'rossi', 'paul', 'sanju', 'kl rahul')"
   ]
  },
  {
   "cell_type": "code",
   "execution_count": 90,
   "id": "1b3b5014",
   "metadata": {},
   "outputs": [
    {
     "data": {
      "text/plain": [
       "('dhoni', 'kholi', 'ronaldo', 'messi', 'rossi', 'paul', 'sanju', 'kl rahul')"
      ]
     },
     "execution_count": 90,
     "metadata": {},
     "output_type": "execute_result"
    }
   ],
   "source": [
    "a"
   ]
  },
  {
   "cell_type": "code",
   "execution_count": 89,
   "id": "ddf46b20",
   "metadata": {},
   "outputs": [
    {
     "data": {
      "text/plain": [
       "('ronaldo', 'messi', 'rossi')"
      ]
     },
     "execution_count": 89,
     "metadata": {},
     "output_type": "execute_result"
    }
   ],
   "source": [
    "a[2:5]"
   ]
  },
  {
   "cell_type": "code",
   "execution_count": 94,
   "id": "516fb1e6",
   "metadata": {},
   "outputs": [
    {
     "data": {
      "text/plain": [
       "('kl rahul', 'sanju', 'paul', 'rossi', 'messi', 'ronaldo', 'kholi', 'dhoni')"
      ]
     },
     "execution_count": 94,
     "metadata": {},
     "output_type": "execute_result"
    }
   ],
   "source": [
    "a[::-1]"
   ]
  },
  {
   "cell_type": "code",
   "execution_count": 100,
   "id": "bbe38d90",
   "metadata": {},
   "outputs": [],
   "source": [
    "b=(1,2,3,4,5)"
   ]
  },
  {
   "cell_type": "code",
   "execution_count": 101,
   "id": "754c90b0",
   "metadata": {},
   "outputs": [
    {
     "ename": "AttributeError",
     "evalue": "'tuple' object has no attribute 'extend'",
     "output_type": "error",
     "traceback": [
      "\u001b[0;31m---------------------------------------------------------------------------\u001b[0m",
      "\u001b[0;31mAttributeError\u001b[0m                            Traceback (most recent call last)",
      "Input \u001b[0;32mIn [101]\u001b[0m, in \u001b[0;36m<cell line: 1>\u001b[0;34m()\u001b[0m\n\u001b[0;32m----> 1\u001b[0m \u001b[43ma\u001b[49m\u001b[38;5;241;43m.\u001b[39;49m\u001b[43mextend\u001b[49m(b)\n",
      "\u001b[0;31mAttributeError\u001b[0m: 'tuple' object has no attribute 'extend'"
     ]
    }
   ],
   "source": [
    "a.extend(b)"
   ]
  },
  {
   "cell_type": "code",
   "execution_count": 102,
   "id": "44f61f66",
   "metadata": {},
   "outputs": [],
   "source": [
    "c = a+b"
   ]
  },
  {
   "cell_type": "code",
   "execution_count": 103,
   "id": "79d4b071",
   "metadata": {},
   "outputs": [
    {
     "data": {
      "text/plain": [
       "('dhoni',\n",
       " 'kholi',\n",
       " 'ronaldo',\n",
       " 'messi',\n",
       " 'rossi',\n",
       " 'paul',\n",
       " 'sanju',\n",
       " 'kl rahul',\n",
       " 1,\n",
       " 2,\n",
       " 3,\n",
       " 4,\n",
       " 5)"
      ]
     },
     "execution_count": 103,
     "metadata": {},
     "output_type": "execute_result"
    }
   ],
   "source": [
    "c"
   ]
  },
  {
   "cell_type": "code",
   "execution_count": 105,
   "id": "f428f8b8",
   "metadata": {},
   "outputs": [
    {
     "data": {
      "text/plain": [
       "('dhoni',\n",
       " 'kholi',\n",
       " 'ronaldo',\n",
       " 'messi',\n",
       " 'rossi',\n",
       " 'paul',\n",
       " 'sanju',\n",
       " 'kl rahul',\n",
       " 1,\n",
       " 2,\n",
       " 3,\n",
       " 4,\n",
       " 5)"
      ]
     },
     "execution_count": 105,
     "metadata": {},
     "output_type": "execute_result"
    }
   ],
   "source": [
    "c*1"
   ]
  },
  {
   "cell_type": "code",
   "execution_count": null,
   "id": "3a8c4734",
   "metadata": {},
   "outputs": [],
   "source": []
  }
 ],
 "metadata": {
  "kernelspec": {
   "display_name": "Python 3 (ipykernel)",
   "language": "python",
   "name": "python3"
  },
  "language_info": {
   "codemirror_mode": {
    "name": "ipython",
    "version": 3
   },
   "file_extension": ".py",
   "mimetype": "text/x-python",
   "name": "python",
   "nbconvert_exporter": "python",
   "pygments_lexer": "ipython3",
   "version": "3.9.12"
  }
 },
 "nbformat": 4,
 "nbformat_minor": 5
}
