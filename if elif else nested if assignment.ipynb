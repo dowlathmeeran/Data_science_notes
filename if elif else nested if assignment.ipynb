{
 "cells": [
  {
   "cell_type": "markdown",
   "id": "a034091c",
   "metadata": {},
   "source": [
    "question no:1"
   ]
  },
  {
   "cell_type": "markdown",
   "id": "92f84b83",
   "metadata": {},
   "source": [
    "Problem Description\n",
    "\n",
    "You are given the Cost Price C and Selling Price S of a Product. You have to tell whether there is a Profit or Loss. Also, calculate total profit or loss.\n",
    "\n",
    "NOTE: It is guaranteed that Cost Price and Selling Price are not equal.\n",
    "\n",
    "\n",
    "Input Format\n",
    "\n",
    "First line of the input contains a single integer C.\n",
    "\n",
    "Second line of the input contains a single integer S.\n",
    "\n",
    "\n",
    "\n",
    "Output Format\n",
    "\n",
    "Print two integers in separate lines.\n",
    "\n",
    "First integer denotes whether there is a profit or loss. If there is a profit, print 1, else print -1.\n",
    "\n",
    "Second integer is a non-negative integer denoting the absolute value of total profit or loss."
   ]
  },
  {
   "cell_type": "code",
   "execution_count": null,
   "id": "15b9c836",
   "metadata": {},
   "outputs": [],
   "source": []
  },
  {
   "cell_type": "markdown",
   "id": "ff59fdc0",
   "metadata": {},
   "source": [
    "question 2:"
   ]
  },
  {
   "cell_type": "markdown",
   "id": "441d4683",
   "metadata": {},
   "source": [
    "Problem Description\n",
    "\n",
    "Write a program that takes in a number N as input and does the following:\n",
    "\n",
    "if N is a multiple of 3, print Fizz\n",
    "if N is a multiple of 5, print Buzz\n",
    "if N is a multiple of both 3 and 5, print FizzBuzz\n",
    "Input Format\n",
    "\n",
    "There is only 1 single line in the input, which is the integer N.\n",
    "\n",
    "Output Format\n",
    "\n",
    "Print Fizz / Buzz / FizzBuzz depending on the value N."
   ]
  },
  {
   "cell_type": "code",
   "execution_count": null,
   "id": "a982e6a3",
   "metadata": {},
   "outputs": [],
   "source": []
  },
  {
   "cell_type": "markdown",
   "id": "72334e57",
   "metadata": {},
   "source": [
    "question 3:"
   ]
  },
  {
   "cell_type": "markdown",
   "id": "400bed45",
   "metadata": {},
   "source": [
    "Problem Description\n",
    "Write a program that asks the user to input a number N. If N is between 10 and 20, your program should ask the user to enter another number M and then:-\n",
    "\n",
    "Print the sum of the two numbers.\n",
    "If the sum is greater than equal to 100, your program should also print \"That is a large sum!\" on a new line.\n",
    "If N is not between 10 and 20, your program should print -1.\n",
    "Problem Constraints:\n",
    "\n",
    "1 <= N <= 100\n",
    "1 <= M <= 100\n",
    "Input Format\n",
    "\n",
    "The first line in the input is an integer N.\n",
    "If N is between 10 and 20 (both included), then the second line is there in the input containing another integer M.\n",
    "Output Format\n",
    "\n",
    "If N is not between 10 and 20, then output -1.\n",
    "If N is between 10 and 20, the first line of the output contains N + M.\n",
    "If N + M is greater than or equal to 100, the second line of the output contains That is a large sum!"
   ]
  },
  {
   "cell_type": "code",
   "execution_count": null,
   "id": "c8b5b66e",
   "metadata": {},
   "outputs": [],
   "source": []
  },
  {
   "cell_type": "markdown",
   "id": "60569b0d",
   "metadata": {},
   "source": [
    "question 4:"
   ]
  },
  {
   "cell_type": "markdown",
   "id": "9de46beb",
   "metadata": {},
   "source": [
    "Problem Description\n",
    "Given an integer A representing an year, Return 1 if it is a leap year else return 0.\n",
    "\n",
    "A year is leap year if the following conditions are satisfied:\n",
    "\n",
    "Year is multiple of 400.\n",
    "Else the year is multiple of 4 and not multiple of 100.\n",
    "\n",
    "\n",
    "Problem Constraints\n",
    "\n",
    "1 <= A <= 109\n",
    "\n",
    "\n",
    "\n",
    "Input Format\n",
    "First and only argument is an integer A\n",
    "\n",
    "\n",
    "\n",
    "Output Format\n",
    "Return 1 if it is a leap year else return 0"
   ]
  },
  {
   "cell_type": "code",
   "execution_count": null,
   "id": "80793d9d",
   "metadata": {},
   "outputs": [],
   "source": []
  },
  {
   "cell_type": "markdown",
   "id": "57ef0db1",
   "metadata": {},
   "source": [
    "question 5:"
   ]
  },
  {
   "cell_type": "markdown",
   "id": "fb9e2967",
   "metadata": {},
   "source": [
    "Problem Description\n",
    "\n",
    "You are given an integer A.\n",
    "\n",
    "You have to tell how many days are there in the month denoted by A in a non-leap year.\n",
    "\n",
    "Months are denoted as follows:\n",
    "\n",
    "January : 1\n",
    "February : 2\n",
    "March : 3\n",
    "April : 4\n",
    "May : 5\n",
    "June : 6\n",
    "July : 7\n",
    "August : 8\n",
    "September : 9\n",
    "October : 10\n",
    "November : 11\n",
    "December : 12"
   ]
  },
  {
   "cell_type": "markdown",
   "id": "78b8cf38",
   "metadata": {},
   "source": [
    "question 6:"
   ]
  },
  {
   "cell_type": "code",
   "execution_count": null,
   "id": "0ba8f172",
   "metadata": {},
   "outputs": [],
   "source": []
  },
  {
   "cell_type": "code",
   "execution_count": null,
   "id": "e7902444",
   "metadata": {},
   "outputs": [],
   "source": []
  },
  {
   "cell_type": "markdown",
   "id": "17ab1cdf",
   "metadata": {},
   "source": [
    "Problem Description\n",
    "\n",
    "In this exercise, you need to implement some rules from Pac-Man, the classic 1980s-era arcade-game.\n",
    "\n",
    "You have to answer whether the Pac-Man loses or not.\n",
    "\n",
    "Your are given the following integer inputs (0 / 1) one in each line:\n",
    "\n",
    "1. Does the Pac-Man have a power pellect active?\n",
    "\n",
    "2. Is the Pac-Man touching a ghost?\n",
    "\n",
    "The Pac-Man loses if it is touching a ghost and does not have a power pellet active.\n",
    "\n",
    "\n",
    "Input Format\n",
    "\n",
    "There are 2 lines in the input.\n",
    "The first line indicates if the Pac-Man has a power pellet active (1 for yes, 0 for no)\n",
    "The second line indicates if the Pac-Man is touching a ghost (1 for yes, 0 for no)\n",
    "\n",
    "\n",
    "Output Format\n",
    "\n",
    "Print 1 if the Pac-Man loses else 0."
   ]
  },
  {
   "cell_type": "code",
   "execution_count": null,
   "id": "bf19810b",
   "metadata": {},
   "outputs": [],
   "source": []
  }
 ],
 "metadata": {
  "kernelspec": {
   "display_name": "Python 3 (ipykernel)",
   "language": "python",
   "name": "python3"
  },
  "language_info": {
   "codemirror_mode": {
    "name": "ipython",
    "version": 3
   },
   "file_extension": ".py",
   "mimetype": "text/x-python",
   "name": "python",
   "nbconvert_exporter": "python",
   "pygments_lexer": "ipython3",
   "version": "3.9.12"
  }
 },
 "nbformat": 4,
 "nbformat_minor": 5
}
