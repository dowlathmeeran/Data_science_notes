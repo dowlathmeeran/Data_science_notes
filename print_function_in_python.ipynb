{
 "cells": [
  {
   "cell_type": "code",
   "execution_count": 1,
   "id": "29145988",
   "metadata": {},
   "outputs": [
    {
     "name": "stdout",
     "output_type": "stream",
     "text": [
      "welcome to besant technologies free data science bootcamp\n"
     ]
    }
   ],
   "source": [
    "print(\"welcome to besant technologies free data science bootcamp\")"
   ]
  },
  {
   "cell_type": "code",
   "execution_count": 2,
   "id": "11c727b1",
   "metadata": {},
   "outputs": [
    {
     "name": "stdout",
     "output_type": "stream",
     "text": [
      "welcome to besant technologies free data science bootcamp\n"
     ]
    }
   ],
   "source": [
    "print('welcome to besant technologies free data science bootcamp')"
   ]
  },
  {
   "cell_type": "code",
   "execution_count": 4,
   "id": "d5cf0286",
   "metadata": {},
   "outputs": [
    {
     "name": "stdout",
     "output_type": "stream",
     "text": [
      "hello everyone\n",
      "glad to meet you\n"
     ]
    }
   ],
   "source": [
    "print(\"hello everyone\\nglad to meet you\")"
   ]
  },
  {
   "cell_type": "code",
   "execution_count": 6,
   "id": "bafa2aa9",
   "metadata": {},
   "outputs": [
    {
     "name": "stdout",
     "output_type": "stream",
     "text": [
      "\n",
      "welcome to besant technologies free data science bootcamp\n",
      "hello everyone\n",
      "glad to meet you\n",
      "\n"
     ]
    }
   ],
   "source": [
    "print(\"\"\"\n",
    "welcome to besant technologies free data science bootcamp\n",
    "hello everyone\n",
    "glad to meet you\n",
    "\"\"\")"
   ]
  },
  {
   "cell_type": "code",
   "execution_count": 5,
   "id": "caed59bf",
   "metadata": {},
   "outputs": [
    {
     "name": "stdout",
     "output_type": "stream",
     "text": [
      "hello\n",
      "everyone\n",
      "glad\n",
      "to\n",
      "meet\n",
      "you\n"
     ]
    }
   ],
   "source": [
    "print(\"hello\")\n",
    "print(\"everyone\")\n",
    "print(\"glad\")\n",
    "print(\"to\")\n",
    "print(\"meet\")\n",
    "print(\"you\")"
   ]
  },
  {
   "cell_type": "code",
   "execution_count": null,
   "id": "ebb3f1c2",
   "metadata": {},
   "outputs": [],
   "source": [
    "print(\"hello\",end=\" \")\n",
    "print(\"everyone\",end=\" \")\n",
    "print(\"glad\",end=\" \")\n",
    "print(\"to\",end=\" \")\n",
    "print(\"meet\",end=\" \")\n",
    "print(\"you\",end=\" \")"
   ]
  }
 ],
 "metadata": {
  "kernelspec": {
   "display_name": "Python 3 (ipykernel)",
   "language": "python",
   "name": "python3"
  },
  "language_info": {
   "codemirror_mode": {
    "name": "ipython",
    "version": 3
   },
   "file_extension": ".py",
   "mimetype": "text/x-python",
   "name": "python",
   "nbconvert_exporter": "python",
   "pygments_lexer": "ipython3",
   "version": "3.9.12"
  }
 },
 "nbformat": 4,
 "nbformat_minor": 5
}
