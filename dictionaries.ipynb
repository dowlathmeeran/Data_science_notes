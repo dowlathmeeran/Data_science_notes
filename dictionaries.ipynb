{
 "cells": [
  {
   "attachments": {
    "image.png": {
     "image/png": "[encoded data removed]"
    }
   },
   "cell_type": "markdown",
   "id": "2c0b320e",
   "metadata": {},
   "source": [
    "![image.png](attachment:image.png)"
   ]
  },
  {
   "cell_type": "markdown",
   "id": "57463658",
   "metadata": {},
   "source": [
    "important feature of dictionaries are:\n",
    "1.each key map to value.the association of a key and a value is called a key-value pair\n",
    "2.each key is seperated from its value by a colon(:),the items are seperated by commas,and the entire dictionary is enclosed in curly braces{}.\n",
    "3.keys are unique within a dictionary while values may not be.\n",
    "4.the value of a dictionary can be of any type,but the keys must be of an immutable data type such as strings,numbers,or tuples\n",
    "5.dictionary is mutable.we can add. new items or change the value of existing items."
   ]
  },
  {
   "cell_type": "code",
   "execution_count": null,
   "id": "93f0aa48",
   "metadata": {},
   "outputs": [],
   "source": [
    "keys      values\n",
    "1   ----> one\n",
    "2   ----> two\n",
    "3   ----> three"
   ]
  },
  {
   "cell_type": "markdown",
   "id": "77471f64",
   "metadata": {},
   "source": [
    "# CREATING DICTIONARY"
   ]
  },
  {
   "cell_type": "code",
   "execution_count": 28,
   "id": "afc91530",
   "metadata": {},
   "outputs": [],
   "source": [
    "phn_address_book = {\"kamesh\":56789765,\"kannan\":567898765,\"jack\":5678976,\"cristiano\":8766780987,\"ronaldo\":7654567}"
   ]
  },
  {
   "cell_type": "code",
   "execution_count": 29,
   "id": "a9d319fa",
   "metadata": {},
   "outputs": [],
   "source": [
    "a = {1:35,2:234,3:425}"
   ]
  },
  {
   "cell_type": "code",
   "execution_count": 30,
   "id": "a7455dd0",
   "metadata": {},
   "outputs": [],
   "source": [
    "b = {\"apple\":[12,34,4,5,6,77,],\"orange\":[3,34,5,6,6,6,],\"pomo\":(3,5,6,6,4,5)}"
   ]
  },
  {
   "cell_type": "code",
   "execution_count": 31,
   "id": "7b5d6490",
   "metadata": {},
   "outputs": [],
   "source": [
    "c = {(3,3,4,5):[34,435,5,5]}"
   ]
  },
  {
   "cell_type": "code",
   "execution_count": 32,
   "id": "1a1aedc1",
   "metadata": {},
   "outputs": [],
   "source": [
    "li = [[1,\"one\"],[2,\"two\"],[3,\"three\"]]"
   ]
  },
  {
   "cell_type": "code",
   "execution_count": 33,
   "id": "094806de",
   "metadata": {},
   "outputs": [],
   "source": [
    "d = dict(li)"
   ]
  },
  {
   "cell_type": "code",
   "execution_count": 34,
   "id": "2008236e",
   "metadata": {},
   "outputs": [
    {
     "data": {
      "text/plain": [
       "{1: 'one', 2: 'two', 3: 'three'}"
      ]
     },
     "execution_count": 34,
     "metadata": {},
     "output_type": "execute_result"
    }
   ],
   "source": [
    "d"
   ]
  },
  {
   "cell_type": "code",
   "execution_count": 35,
   "id": "a0d3bf78",
   "metadata": {},
   "outputs": [],
   "source": [
    "e = {}"
   ]
  },
  {
   "cell_type": "code",
   "execution_count": 36,
   "id": "6a2fff32",
   "metadata": {},
   "outputs": [],
   "source": [
    "e[1]=\"one\""
   ]
  },
  {
   "cell_type": "code",
   "execution_count": 37,
   "id": "49e1c5fd",
   "metadata": {},
   "outputs": [],
   "source": [
    "e[\"two\"]=2"
   ]
  },
  {
   "cell_type": "code",
   "execution_count": 38,
   "id": "abf7316d",
   "metadata": {},
   "outputs": [
    {
     "data": {
      "text/plain": [
       "{1: 'one', 'two': 2}"
      ]
     },
     "execution_count": 38,
     "metadata": {},
     "output_type": "execute_result"
    }
   ],
   "source": [
    "e"
   ]
  },
  {
   "cell_type": "markdown",
   "id": "82bab831",
   "metadata": {},
   "source": [
    "# accessing element in a dictionaries"
   ]
  },
  {
   "cell_type": "code",
   "execution_count": 39,
   "id": "50f7a211",
   "metadata": {},
   "outputs": [
    {
     "data": {
      "text/plain": [
       "56789765"
      ]
     },
     "execution_count": 39,
     "metadata": {},
     "output_type": "execute_result"
    }
   ],
   "source": [
    "phn_address_book[\"kamesh\"]"
   ]
  },
  {
   "cell_type": "code",
   "execution_count": 41,
   "id": "67dbdf52",
   "metadata": {},
   "outputs": [
    {
     "data": {
      "text/plain": [
       "[12, 34, 4, 5, 6, 77]"
      ]
     },
     "execution_count": 41,
     "metadata": {},
     "output_type": "execute_result"
    }
   ],
   "source": [
    "b[\"apple\"]"
   ]
  },
  {
   "cell_type": "markdown",
   "id": "33352480",
   "metadata": {},
   "source": [
    "# traversing a dictionary"
   ]
  },
  {
   "cell_type": "code",
   "execution_count": 42,
   "id": "c0e95773",
   "metadata": {},
   "outputs": [
    {
     "data": {
      "text/plain": [
       "{1: 'one', 2: 'two', 3: 'three'}"
      ]
     },
     "execution_count": 42,
     "metadata": {},
     "output_type": "execute_result"
    }
   ],
   "source": [
    "d"
   ]
  },
  {
   "cell_type": "code",
   "execution_count": 44,
   "id": "51d5a280",
   "metadata": {},
   "outputs": [
    {
     "name": "stdout",
     "output_type": "stream",
     "text": [
      "1\n",
      "2\n",
      "3\n"
     ]
    }
   ],
   "source": [
    "for i in d:\n",
    "    print(i)"
   ]
  },
  {
   "cell_type": "code",
   "execution_count": 45,
   "id": "09186994",
   "metadata": {},
   "outputs": [
    {
     "name": "stdout",
     "output_type": "stream",
     "text": [
      "kamesh\n",
      "kannan\n",
      "jack\n",
      "cristiano\n",
      "ronaldo\n"
     ]
    }
   ],
   "source": [
    "for i in phn_address_book:\n",
    "    print(i)"
   ]
  },
  {
   "cell_type": "code",
   "execution_count": 46,
   "id": "50e88ad7",
   "metadata": {},
   "outputs": [
    {
     "name": "stdout",
     "output_type": "stream",
     "text": [
      "kamesh\n",
      "kannan\n",
      "jack\n",
      "cristiano\n",
      "ronaldo\n"
     ]
    }
   ],
   "source": [
    "for i in phn_address_book.keys():\n",
    "    print(i)"
   ]
  },
  {
   "cell_type": "code",
   "execution_count": 48,
   "id": "b9c090d4",
   "metadata": {},
   "outputs": [
    {
     "data": {
      "text/plain": [
       "dict_values([56789765, 567898765, 5678976, 8766780987, 7654567])"
      ]
     },
     "execution_count": 48,
     "metadata": {},
     "output_type": "execute_result"
    }
   ],
   "source": [
    "phn_address_book.values()"
   ]
  },
  {
   "cell_type": "code",
   "execution_count": 47,
   "id": "f7c67592",
   "metadata": {},
   "outputs": [
    {
     "name": "stdout",
     "output_type": "stream",
     "text": [
      "56789765\n",
      "567898765\n",
      "5678976\n",
      "8766780987\n",
      "7654567\n"
     ]
    }
   ],
   "source": [
    "for i in phn_address_book.values():\n",
    "    print(i)"
   ]
  },
  {
   "cell_type": "code",
   "execution_count": 49,
   "id": "3f29954d",
   "metadata": {},
   "outputs": [
    {
     "data": {
      "text/plain": [
       "dict_items([('kamesh', 56789765), ('kannan', 567898765), ('jack', 5678976), ('cristiano', 8766780987), ('ronaldo', 7654567)])"
      ]
     },
     "execution_count": 49,
     "metadata": {},
     "output_type": "execute_result"
    }
   ],
   "source": [
    "phn_address_book.items()"
   ]
  },
  {
   "cell_type": "code",
   "execution_count": 50,
   "id": "d8eb08f0",
   "metadata": {},
   "outputs": [
    {
     "name": "stdout",
     "output_type": "stream",
     "text": [
      "('kamesh', 56789765)\n",
      "('kannan', 567898765)\n",
      "('jack', 5678976)\n",
      "('cristiano', 8766780987)\n",
      "('ronaldo', 7654567)\n"
     ]
    }
   ],
   "source": [
    "for i in phn_address_book.items():\n",
    "    print(i)"
   ]
  },
  {
   "cell_type": "code",
   "execution_count": 52,
   "id": "7792b3fd",
   "metadata": {},
   "outputs": [
    {
     "data": {
      "text/plain": [
       "{'A': 'SCIENCE', 'B': 'SOCIAL'}"
      ]
     },
     "execution_count": 52,
     "metadata": {},
     "output_type": "execute_result"
    }
   ],
   "source": [
    "class11th"
   ]
  },
  {
   "cell_type": "code",
   "execution_count": 53,
   "id": "e1856d5b",
   "metadata": {},
   "outputs": [
    {
     "data": {
      "text/plain": [
       "dict_keys(['A', 'B'])"
      ]
     },
     "execution_count": 53,
     "metadata": {},
     "output_type": "execute_result"
    }
   ],
   "source": [
    "class11th.keys()"
   ]
  },
  {
   "cell_type": "code",
   "execution_count": 56,
   "id": "da418a2c",
   "metadata": {},
   "outputs": [
    {
     "data": {
      "text/plain": [
       "'SOCIAL'"
      ]
     },
     "execution_count": 56,
     "metadata": {},
     "output_type": "execute_result"
    }
   ],
   "source": [
    "class11th['B']"
   ]
  },
  {
   "cell_type": "code",
   "execution_count": 51,
   "id": "087d7f36",
   "metadata": {},
   "outputs": [
    {
     "name": "stdout",
     "output_type": "stream",
     "text": [
      "enter total number of sections in 11th:2\n",
      "enter section :A\n",
      "enter stream name :SCIENCE\n",
      "enter section :B\n",
      "enter stream name :SOCIAL\n",
      "class \t section \t stream name\n",
      "11th \t A \t SCIENCE\n",
      "11th \t B \t SOCIAL\n"
     ]
    }
   ],
   "source": [
    "class11th = {}\n",
    "n = int(input(\"enter total number of sections in 11th:\"))\n",
    "i = 1\n",
    "while i<=n:\n",
    "    a = input(\"enter section :\")\n",
    "    b = input(\"enter stream name :\")\n",
    "    class11th[a]=b\n",
    "    i = i + 1\n",
    "print(\"class\",'\\t',\"section\",'\\t',\"stream name\")\n",
    "for i in class11th:\n",
    "    print(\"11th\",'\\t',i,'\\t',class11th[i])"
   ]
  },
  {
   "cell_type": "markdown",
   "id": "fa906587",
   "metadata": {},
   "source": [
    "# APPENDING VALUES"
   ]
  },
  {
   "cell_type": "code",
   "execution_count": 57,
   "id": "1fc3d2a5",
   "metadata": {},
   "outputs": [],
   "source": [
    "phn_address_book[\"ROSSI\"]=23456765"
   ]
  },
  {
   "cell_type": "code",
   "execution_count": 58,
   "id": "4638db6b",
   "metadata": {},
   "outputs": [
    {
     "data": {
      "text/plain": [
       "{'kamesh': 56789765,\n",
       " 'kannan': 567898765,\n",
       " 'jack': 5678976,\n",
       " 'cristiano': 8766780987,\n",
       " 'ronaldo': 7654567,\n",
       " 'ROSSI': 23456765}"
      ]
     },
     "execution_count": 58,
     "metadata": {},
     "output_type": "execute_result"
    }
   ],
   "source": [
    "phn_address_book"
   ]
  },
  {
   "cell_type": "markdown",
   "id": "fab4edf8",
   "metadata": {},
   "source": [
    "# UPDATING ELEMENTS IN A DICTIONARY"
   ]
  },
  {
   "cell_type": "code",
   "execution_count": 59,
   "id": "54cf3f2b",
   "metadata": {},
   "outputs": [],
   "source": [
    "phn_address_book[\"ROSSI\"]=2345"
   ]
  },
  {
   "cell_type": "code",
   "execution_count": 60,
   "id": "bae866b9",
   "metadata": {},
   "outputs": [
    {
     "data": {
      "text/plain": [
       "{'kamesh': 56789765,\n",
       " 'kannan': 567898765,\n",
       " 'jack': 5678976,\n",
       " 'cristiano': 8766780987,\n",
       " 'ronaldo': 7654567,\n",
       " 'ROSSI': 2345}"
      ]
     },
     "execution_count": 60,
     "metadata": {},
     "output_type": "execute_result"
    }
   ],
   "source": [
    "phn_address_book"
   ]
  },
  {
   "cell_type": "code",
   "execution_count": 72,
   "id": "ac06c8f5",
   "metadata": {},
   "outputs": [],
   "source": [
    "a = {1:450,2:234,3:425}"
   ]
  },
  {
   "cell_type": "code",
   "execution_count": 62,
   "id": "00ae5a96",
   "metadata": {},
   "outputs": [],
   "source": [
    "b = {\"apple\":[12,34,4,5,6,77,],\"orange\":[3,34,5,6,6,6,],\"pomo\":(3,5,6,6,4,5)}"
   ]
  },
  {
   "cell_type": "code",
   "execution_count": 73,
   "id": "be100f4c",
   "metadata": {},
   "outputs": [],
   "source": [
    "c = {1:35,5:233,6:34}"
   ]
  },
  {
   "cell_type": "code",
   "execution_count": 66,
   "id": "04e7ca08",
   "metadata": {},
   "outputs": [],
   "source": [
    "a.update(b)"
   ]
  },
  {
   "cell_type": "code",
   "execution_count": 67,
   "id": "231438c8",
   "metadata": {},
   "outputs": [
    {
     "data": {
      "text/plain": [
       "{1: 350,\n",
       " 2: 234,\n",
       " 3: 425,\n",
       " 'apple': [12, 34, 4, 5, 6, 77],\n",
       " 'orange': [3, 34, 5, 6, 6, 6],\n",
       " 'pomo': (3, 5, 6, 6, 4, 5)}"
      ]
     },
     "execution_count": 67,
     "metadata": {},
     "output_type": "execute_result"
    }
   ],
   "source": [
    "a"
   ]
  },
  {
   "cell_type": "code",
   "execution_count": 74,
   "id": "253d836f",
   "metadata": {},
   "outputs": [],
   "source": [
    "c.update(a)"
   ]
  },
  {
   "cell_type": "code",
   "execution_count": 75,
   "id": "d13dbc6e",
   "metadata": {},
   "outputs": [
    {
     "data": {
      "text/plain": [
       "{1: 450, 5: 233, 6: 34, 2: 234, 3: 425}"
      ]
     },
     "execution_count": 75,
     "metadata": {},
     "output_type": "execute_result"
    }
   ],
   "source": [
    "c"
   ]
  },
  {
   "cell_type": "markdown",
   "id": "e710ae73",
   "metadata": {},
   "source": [
    "deleting item from dictionary"
   ]
  },
  {
   "cell_type": "code",
   "execution_count": 76,
   "id": "9d95d04a",
   "metadata": {},
   "outputs": [],
   "source": [
    "del c[1]"
   ]
  },
  {
   "cell_type": "code",
   "execution_count": 77,
   "id": "30f39f7e",
   "metadata": {},
   "outputs": [
    {
     "data": {
      "text/plain": [
       "{5: 233, 6: 34, 2: 234, 3: 425}"
      ]
     },
     "execution_count": 77,
     "metadata": {},
     "output_type": "execute_result"
    }
   ],
   "source": [
    "c"
   ]
  },
  {
   "cell_type": "code",
   "execution_count": 78,
   "id": "05d83ee1",
   "metadata": {},
   "outputs": [],
   "source": [
    "del c"
   ]
  },
  {
   "cell_type": "code",
   "execution_count": 79,
   "id": "2824e441",
   "metadata": {},
   "outputs": [
    {
     "ename": "NameError",
     "evalue": "name 'c' is not defined",
     "output_type": "error",
     "traceback": [
      "\u001b[0;31m---------------------------------------------------------------------------\u001b[0m",
      "\u001b[0;31mNameError\u001b[0m                                 Traceback (most recent call last)",
      "Input \u001b[0;32mIn [79]\u001b[0m, in \u001b[0;36m<cell line: 1>\u001b[0;34m()\u001b[0m\n\u001b[0;32m----> 1\u001b[0m \u001b[43mc\u001b[49m\n",
      "\u001b[0;31mNameError\u001b[0m: name 'c' is not defined"
     ]
    }
   ],
   "source": [
    "c"
   ]
  },
  {
   "cell_type": "markdown",
   "id": "3a071efb",
   "metadata": {},
   "source": [
    "# common dictionary function"
   ]
  },
  {
   "cell_type": "code",
   "execution_count": 86,
   "id": "b3d64492",
   "metadata": {},
   "outputs": [],
   "source": [
    "phn_address_book = {\"kamesh\":56789765,\"kannan\":567898765,\"jack\":5678976,\"cristiano\":8766780987,\"ronaldi\":7654567}"
   ]
  },
  {
   "cell_type": "code",
   "execution_count": 83,
   "id": "07cb7ba7",
   "metadata": {},
   "outputs": [
    {
     "data": {
      "text/plain": [
       "5"
      ]
     },
     "execution_count": 83,
     "metadata": {},
     "output_type": "execute_result"
    }
   ],
   "source": [
    "len(phn_address_book)"
   ]
  },
  {
   "cell_type": "code",
   "execution_count": 84,
   "id": "da98c451",
   "metadata": {},
   "outputs": [],
   "source": [
    "b.clear()"
   ]
  },
  {
   "cell_type": "code",
   "execution_count": 85,
   "id": "9a1c0032",
   "metadata": {},
   "outputs": [
    {
     "data": {
      "text/plain": [
       "{}"
      ]
     },
     "execution_count": 85,
     "metadata": {},
     "output_type": "execute_result"
    }
   ],
   "source": [
    "b"
   ]
  },
  {
   "cell_type": "code",
   "execution_count": 87,
   "id": "5c8f3690",
   "metadata": {},
   "outputs": [
    {
     "data": {
      "text/plain": [
       "56789765"
      ]
     },
     "execution_count": 87,
     "metadata": {},
     "output_type": "execute_result"
    }
   ],
   "source": [
    "phn_address_book.get(\"kamesh\")"
   ]
  },
  {
   "cell_type": "code",
   "execution_count": 88,
   "id": "8ddfe565",
   "metadata": {},
   "outputs": [
    {
     "data": {
      "text/plain": [
       "dict_items([('kamesh', 56789765), ('kannan', 567898765), ('jack', 5678976), ('cristiano', 8766780987), ('ronaldi', 7654567)])"
      ]
     },
     "execution_count": 88,
     "metadata": {},
     "output_type": "execute_result"
    }
   ],
   "source": [
    "phn_address_book.items()"
   ]
  },
  {
   "cell_type": "code",
   "execution_count": 89,
   "id": "ffb37aa2",
   "metadata": {},
   "outputs": [
    {
     "data": {
      "text/plain": [
       "dict_keys(['kamesh', 'kannan', 'jack', 'cristiano', 'ronaldi'])"
      ]
     },
     "execution_count": 89,
     "metadata": {},
     "output_type": "execute_result"
    }
   ],
   "source": [
    "phn_address_book.keys()"
   ]
  },
  {
   "cell_type": "code",
   "execution_count": 90,
   "id": "0a3697e7",
   "metadata": {},
   "outputs": [
    {
     "data": {
      "text/plain": [
       "dict_values([56789765, 567898765, 5678976, 8766780987, 7654567])"
      ]
     },
     "execution_count": 90,
     "metadata": {},
     "output_type": "execute_result"
    }
   ],
   "source": [
    "phn_address_book.values()"
   ]
  },
  {
   "cell_type": "code",
   "execution_count": 91,
   "id": "cc331550",
   "metadata": {},
   "outputs": [],
   "source": [
    "new = phn_address_book.copy()"
   ]
  },
  {
   "cell_type": "code",
   "execution_count": 92,
   "id": "9a01d9f4",
   "metadata": {},
   "outputs": [
    {
     "data": {
      "text/plain": [
       "{'kamesh': 56789765,\n",
       " 'kannan': 567898765,\n",
       " 'jack': 5678976,\n",
       " 'cristiano': 8766780987,\n",
       " 'ronaldi': 7654567}"
      ]
     },
     "execution_count": 92,
     "metadata": {},
     "output_type": "execute_result"
    }
   ],
   "source": [
    "new"
   ]
  },
  {
   "cell_type": "code",
   "execution_count": 93,
   "id": "880ae3a5",
   "metadata": {},
   "outputs": [],
   "source": [
    "student = {\"roll no\":10,\"name\":\"Besant\",\"stream\":\"python\"}"
   ]
  },
  {
   "cell_type": "code",
   "execution_count": 94,
   "id": "d5713b71",
   "metadata": {},
   "outputs": [
    {
     "name": "stdout",
     "output_type": "stream",
     "text": [
      "{'roll no': 10, 'name': 'Besant', 'stream': 'python'}\n"
     ]
    }
   ],
   "source": [
    "print(student)"
   ]
  },
  {
   "cell_type": "code",
   "execution_count": 95,
   "id": "a94d7908",
   "metadata": {},
   "outputs": [],
   "source": [
    "s = student.popitem()"
   ]
  },
  {
   "cell_type": "code",
   "execution_count": 99,
   "id": "af33852e",
   "metadata": {},
   "outputs": [
    {
     "data": {
      "text/plain": [
       "'stream'"
      ]
     },
     "execution_count": 99,
     "metadata": {},
     "output_type": "execute_result"
    }
   ],
   "source": [
    "s[0]"
   ]
  },
  {
   "cell_type": "code",
   "execution_count": 100,
   "id": "c430c3f1",
   "metadata": {},
   "outputs": [
    {
     "data": {
      "text/plain": [
       "{'roll no': 10, 'name': 'Besant'}"
      ]
     },
     "execution_count": 100,
     "metadata": {},
     "output_type": "execute_result"
    }
   ],
   "source": [
    "student"
   ]
  },
  {
   "cell_type": "code",
   "execution_count": 109,
   "id": "f26bd86b",
   "metadata": {},
   "outputs": [],
   "source": [
    "c = {1:35,8:123,5:233,6:34}"
   ]
  },
  {
   "cell_type": "code",
   "execution_count": 110,
   "id": "6a154821",
   "metadata": {},
   "outputs": [
    {
     "data": {
      "text/plain": [
       "8"
      ]
     },
     "execution_count": 110,
     "metadata": {},
     "output_type": "execute_result"
    }
   ],
   "source": [
    "max(c)"
   ]
  },
  {
   "cell_type": "code",
   "execution_count": 103,
   "id": "9fb354b3",
   "metadata": {},
   "outputs": [
    {
     "data": {
      "text/plain": [
       "1"
      ]
     },
     "execution_count": 103,
     "metadata": {},
     "output_type": "execute_result"
    }
   ],
   "source": [
    "min(c)"
   ]
  },
  {
   "cell_type": "code",
   "execution_count": 104,
   "id": "c65fb7be",
   "metadata": {},
   "outputs": [
    {
     "data": {
      "text/plain": [
       "'roll no'"
      ]
     },
     "execution_count": 104,
     "metadata": {},
     "output_type": "execute_result"
    }
   ],
   "source": [
    "max(student)"
   ]
  },
  {
   "cell_type": "code",
   "execution_count": 105,
   "id": "a09e9ee0",
   "metadata": {},
   "outputs": [
    {
     "data": {
      "text/plain": [
       "'name'"
      ]
     },
     "execution_count": 105,
     "metadata": {},
     "output_type": "execute_result"
    }
   ],
   "source": [
    "min(student)"
   ]
  },
  {
   "cell_type": "code",
   "execution_count": 106,
   "id": "082a4101",
   "metadata": {},
   "outputs": [],
   "source": [
    "student = {\"roll no\":10,\"name\":23,\"stream\":2}"
   ]
  },
  {
   "cell_type": "code",
   "execution_count": 112,
   "id": "9438db3f",
   "metadata": {},
   "outputs": [
    {
     "data": {
      "text/plain": [
       "['name', 'roll no', 'stream']"
      ]
     },
     "execution_count": 112,
     "metadata": {},
     "output_type": "execute_result"
    }
   ],
   "source": [
    "sorted(student)"
   ]
  },
  {
   "cell_type": "code",
   "execution_count": 113,
   "id": "011519ae",
   "metadata": {},
   "outputs": [
    {
     "data": {
      "text/plain": [
       "[('name', 23), ('roll no', 10), ('stream', 2)]"
      ]
     },
     "execution_count": 113,
     "metadata": {},
     "output_type": "execute_result"
    }
   ],
   "source": [
    "sorted(student.items())"
   ]
  },
  {
   "cell_type": "code",
   "execution_count": 114,
   "id": "1bccf3fb",
   "metadata": {},
   "outputs": [
    {
     "data": {
      "text/plain": [
       "[2, 10, 23]"
      ]
     },
     "execution_count": 114,
     "metadata": {},
     "output_type": "execute_result"
    }
   ],
   "source": [
    "sorted(student.values())"
   ]
  },
  {
   "cell_type": "code",
   "execution_count": null,
   "id": "f01bfcdd",
   "metadata": {},
   "outputs": [],
   "source": []
  }
 ],
 "metadata": {
  "kernelspec": {
   "display_name": "Python 3 (ipykernel)",
   "language": "python",
   "name": "python3"
  },
  "language_info": {
   "codemirror_mode": {
    "name": "ipython",
    "version": 3
   },
   "file_extension": ".py",
   "mimetype": "text/x-python",
   "name": "python",
   "nbconvert_exporter": "python",
   "pygments_lexer": "ipython3",
   "version": "3.9.12"
  }
 },
 "nbformat": 4,
 "nbformat_minor": 5
}
