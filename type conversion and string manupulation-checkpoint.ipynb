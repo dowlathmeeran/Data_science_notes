{
 "cells": [
  {
   "cell_type": "code",
   "execution_count": 1,
   "id": "4a62e8b2",
   "metadata": {},
   "outputs": [
    {
     "name": "stdout",
     "output_type": "stream",
     "text": [
      "10\n",
      "<class 'int'>\n"
     ]
    }
   ],
   "source": [
    "a = 10\n",
    "print(a)\n",
    "print(type(a))"
   ]
  },
  {
   "cell_type": "code",
   "execution_count": 2,
   "id": "755c9641",
   "metadata": {},
   "outputs": [
    {
     "name": "stdout",
     "output_type": "stream",
     "text": [
      "10.0\n",
      "<class 'float'>\n"
     ]
    }
   ],
   "source": [
    "a = 10.0\n",
    "print(a)\n",
    "print(type(a))"
   ]
  },
  {
   "cell_type": "code",
   "execution_count": 3,
   "id": "a3e89d96",
   "metadata": {},
   "outputs": [],
   "source": [
    "a = 10.0\n",
    "a = int(a)"
   ]
  },
  {
   "cell_type": "code",
   "execution_count": 4,
   "id": "df19a096",
   "metadata": {},
   "outputs": [
    {
     "data": {
      "text/plain": [
       "10"
      ]
     },
     "execution_count": 4,
     "metadata": {},
     "output_type": "execute_result"
    }
   ],
   "source": [
    "a"
   ]
  },
  {
   "cell_type": "code",
   "execution_count": 5,
   "id": "d0256eb4",
   "metadata": {},
   "outputs": [
    {
     "data": {
      "text/plain": [
       "int"
      ]
     },
     "execution_count": 5,
     "metadata": {},
     "output_type": "execute_result"
    }
   ],
   "source": [
    "type(a)"
   ]
  },
  {
   "cell_type": "code",
   "execution_count": 6,
   "id": "d6eb22ef",
   "metadata": {},
   "outputs": [],
   "source": [
    "b = 10\n",
    "b = float(b)"
   ]
  },
  {
   "cell_type": "code",
   "execution_count": 7,
   "id": "cb9481e6",
   "metadata": {},
   "outputs": [
    {
     "data": {
      "text/plain": [
       "float"
      ]
     },
     "execution_count": 7,
     "metadata": {},
     "output_type": "execute_result"
    }
   ],
   "source": [
    "type(b)"
   ]
  },
  {
   "cell_type": "code",
   "execution_count": 10,
   "id": "63b7d6e7",
   "metadata": {},
   "outputs": [
    {
     "name": "stdout",
     "output_type": "stream",
     "text": [
      "enter the value 1:44\n",
      "enter the value 2:44\n",
      "the value of num is88\n"
     ]
    }
   ],
   "source": [
    "num1 = int(input(\"enter the value 1:\"))\n",
    "num2 = int(input(\"enter the value 2:\"))\n",
    "num = num1 + num2\n",
    "print(\"the value of num is\" + str(num))"
   ]
  },
  {
   "cell_type": "code",
   "execution_count": 11,
   "id": "1f2b0fe2",
   "metadata": {},
   "outputs": [],
   "source": [
    "a = \"string\"\n"
   ]
  },
  {
   "cell_type": "markdown",
   "id": "20c6955a",
   "metadata": {},
   "source": [
    "uppercase"
   ]
  },
  {
   "cell_type": "code",
   "execution_count": 12,
   "id": "b794dd22",
   "metadata": {},
   "outputs": [
    {
     "name": "stdout",
     "output_type": "stream",
     "text": [
      "STRING\n"
     ]
    }
   ],
   "source": [
    "print(a.upper())"
   ]
  },
  {
   "cell_type": "markdown",
   "id": "3a050d7a",
   "metadata": {},
   "source": [
    "lowercase"
   ]
  },
  {
   "cell_type": "code",
   "execution_count": 13,
   "id": "3e627345",
   "metadata": {},
   "outputs": [
    {
     "name": "stdout",
     "output_type": "stream",
     "text": [
      "string\n"
     ]
    }
   ],
   "source": [
    "print(a.lower())"
   ]
  },
  {
   "cell_type": "markdown",
   "id": "9bea44a1",
   "metadata": {},
   "source": [
    "capitalize"
   ]
  },
  {
   "cell_type": "code",
   "execution_count": 14,
   "id": "5e6d201f",
   "metadata": {},
   "outputs": [
    {
     "name": "stdout",
     "output_type": "stream",
     "text": [
      "String\n"
     ]
    }
   ],
   "source": [
    "print(a.capitalize())"
   ]
  },
  {
   "cell_type": "markdown",
   "id": "d76459b3",
   "metadata": {},
   "source": [
    "title which can be alter the string every words in your string convert the first letter to capital letter "
   ]
  },
  {
   "cell_type": "code",
   "execution_count": 18,
   "id": "d44b951c",
   "metadata": {},
   "outputs": [],
   "source": [
    "sen = \"nature is beatiful\""
   ]
  },
  {
   "cell_type": "code",
   "execution_count": 20,
   "id": "230b6e62",
   "metadata": {},
   "outputs": [
    {
     "name": "stdout",
     "output_type": "stream",
     "text": [
      "Nature Is Beatiful\n"
     ]
    }
   ],
   "source": [
    "print(sen.title())"
   ]
  },
  {
   "cell_type": "markdown",
   "id": "bd2e05f5",
   "metadata": {},
   "source": [
    "count function which can be useful to count the particular letters "
   ]
  },
  {
   "cell_type": "code",
   "execution_count": 21,
   "id": "827db38a",
   "metadata": {},
   "outputs": [
    {
     "name": "stdout",
     "output_type": "stream",
     "text": [
      "2\n"
     ]
    }
   ],
   "source": [
    "print(sen.count(\"a\"))"
   ]
  },
  {
   "cell_type": "markdown",
   "id": "f0143fcd",
   "metadata": {},
   "source": [
    "endswith function which can be find out the given string is endswith particular given letters or words"
   ]
  },
  {
   "cell_type": "code",
   "execution_count": 22,
   "id": "53b9b357",
   "metadata": {},
   "outputs": [
    {
     "name": "stdout",
     "output_type": "stream",
     "text": [
      "True\n"
     ]
    }
   ],
   "source": [
    "print(sen.endswith(\"fu"
   ]
  },
  {
   "cell_type": "markdown",
   "id": "c38293c8",
   "metadata": {},
   "source": [
    "find function is help us to find out particular values in our string"
   ]
  },
  {
   "cell_type": "code",
   "execution_count": 23,
   "id": "a8e01484",
   "metadata": {},
   "outputs": [
    {
     "name": "stdout",
     "output_type": "stream",
     "text": [
      "1\n"
     ]
    }
   ],
   "source": [
    "print(sen.find(\"a\"))"
   ]
  },
  {
   "cell_type": "code",
   "execution_count": 24,
   "id": "da5ba937",
   "metadata": {},
   "outputs": [
    {
     "name": "stdout",
     "output_type": "stream",
     "text": [
      "12\n"
     ]
    }
   ],
   "source": [
    "print(sen.find(\"a\",3))"
   ]
  },
  {
   "cell_type": "markdown",
   "id": "8a0b1075",
   "metadata": {},
   "source": [
    "replace function is use to replace the values eg. suppose we have word like male in our string we have to convert that to 1"
   ]
  },
  {
   "cell_type": "code",
   "execution_count": 29,
   "id": "b872624d",
   "metadata": {},
   "outputs": [],
   "source": [
    "gender = \"i am a kames\""
   ]
  },
  {
   "cell_type": "code",
   "execution_count": 30,
   "id": "aef91f36",
   "metadata": {},
   "outputs": [
    {
     "name": "stdout",
     "output_type": "stream",
     "text": [
      "i am a kamesh\n"
     ]
    }
   ],
   "source": [
    "print(gender.replace(\"kames\",\"kamesh\"))"
   ]
  },
  {
   "cell_type": "markdown",
   "id": "6ac9e090",
   "metadata": {},
   "source": [
    "isupper function is help us to find out our given string is in upper"
   ]
  },
  {
   "cell_type": "code",
   "execution_count": 31,
   "id": "b407d88e",
   "metadata": {},
   "outputs": [
    {
     "name": "stdout",
     "output_type": "stream",
     "text": [
      "False\n"
     ]
    }
   ],
   "source": [
    "print(gender.isupper())"
   ]
  },
  {
   "cell_type": "code",
   "execution_count": 32,
   "id": "744c5ca3",
   "metadata": {},
   "outputs": [],
   "source": [
    "b = \"String\""
   ]
  },
  {
   "cell_type": "code",
   "execution_count": 33,
   "id": "612d52fe",
   "metadata": {},
   "outputs": [
    {
     "name": "stdout",
     "output_type": "stream",
     "text": [
      "False\n"
     ]
    }
   ],
   "source": [
    "print(b.isupper())"
   ]
  },
  {
   "cell_type": "code",
   "execution_count": 34,
   "id": "3652c7a5",
   "metadata": {},
   "outputs": [],
   "source": [
    "b = \"STRING\""
   ]
  },
  {
   "cell_type": "code",
   "execution_count": 35,
   "id": "5ce0ec17",
   "metadata": {},
   "outputs": [
    {
     "name": "stdout",
     "output_type": "stream",
     "text": [
      "True\n"
     ]
    }
   ],
   "source": [
    "print(b.isupper())"
   ]
  },
  {
   "cell_type": "markdown",
   "id": "96ae34b1",
   "metadata": {},
   "source": [
    "now we will see islower function.it is same like isupper function but that is useful to find out uppercase.this one is useful to findout lowercase"
   ]
  },
  {
   "cell_type": "code",
   "execution_count": 36,
   "id": "fb4ac564",
   "metadata": {},
   "outputs": [
    {
     "name": "stdout",
     "output_type": "stream",
     "text": [
      "False\n"
     ]
    }
   ],
   "source": [
    "print(b.islower())"
   ]
  },
  {
   "cell_type": "code",
   "execution_count": 37,
   "id": "7f193b3a",
   "metadata": {},
   "outputs": [
    {
     "name": "stdout",
     "output_type": "stream",
     "text": [
      "True\n"
     ]
    }
   ],
   "source": [
    "print(gender.islower())"
   ]
  },
  {
   "cell_type": "markdown",
   "id": "0cd61e12",
   "metadata": {},
   "source": [
    "isalnum() function is useful to find any numerics in our given string"
   ]
  },
  {
   "cell_type": "code",
   "execution_count": 38,
   "id": "11b830a6",
   "metadata": {},
   "outputs": [
    {
     "name": "stdout",
     "output_type": "stream",
     "text": [
      "False\n"
     ]
    }
   ],
   "source": [
    "print(gender.isalnum())"
   ]
  },
  {
   "cell_type": "code",
   "execution_count": 39,
   "id": "53c5b97d",
   "metadata": {},
   "outputs": [],
   "source": [
    "num = \"john123\""
   ]
  },
  {
   "cell_type": "code",
   "execution_count": 40,
   "id": "f8585698",
   "metadata": {},
   "outputs": [
    {
     "name": "stdout",
     "output_type": "stream",
     "text": [
      "True\n"
     ]
    }
   ],
   "source": [
    "print(num.isalnum())"
   ]
  },
  {
   "cell_type": "markdown",
   "id": "c537dae8",
   "metadata": {},
   "source": [
    "isalpha() function is usefu to find out the given string is have alphabetics"
   ]
  },
  {
   "cell_type": "code",
   "execution_count": 41,
   "id": "b0fd399a",
   "metadata": {},
   "outputs": [
    {
     "name": "stdout",
     "output_type": "stream",
     "text": [
      "False\n"
     ]
    }
   ],
   "source": [
    "print(gender.isalpha())"
   ]
  },
  {
   "cell_type": "code",
   "execution_count": 42,
   "id": "c90a210d",
   "metadata": {},
   "outputs": [
    {
     "name": "stdout",
     "output_type": "stream",
     "text": [
      "he\n",
      "is\n",
      "good\n",
      "['he', 'is', 'good']\n",
      "['he\\n', 'is\\n', 'good']\n"
     ]
    }
   ],
   "source": [
    "s = \"he\\nis\\ngood\"\n",
    "#print(s)\n",
    "#print(s.splitlines())\n",
    "#print(s.splitlines(True))"
   ]
  },
  {
   "cell_type": "code",
   "execution_count": 48,
   "id": "67118af5",
   "metadata": {},
   "outputs": [],
   "source": [
    "a = \"cristiano ronaldo is best footballer in the world\"\n",
    "#print(a.split(\" \"))"
   ]
  },
  {
   "cell_type": "code",
   "execution_count": 49,
   "id": "9c2ff4fa",
   "metadata": {},
   "outputs": [],
   "source": [
    "a = \"cristiano,ronaldo,is,best,footballer,in,the,world\"\n",
    "#print(a.split(\" \"))\"\n",
    "#print(a.split(\",\"))"
   ]
  },
  {
   "cell_type": "code",
   "execution_count": 45,
   "id": "5efcd8ef",
   "metadata": {},
   "outputs": [
    {
     "name": "stdout",
     "output_type": "stream",
     "text": [
      "13\n",
      "4\n",
      "9\n",
      "8\n"
     ]
    }
   ],
   "source": [
    "s=\"    ronaldo     \"\n",
    "#print(len(s))\n",
    "#print(len(s.strip()))\n",
    "#print(len(s.lstrip()))\n",
    "#print(len(s.rstrip()))"
   ]
  },
  {
   "cell_type": "code",
   "execution_count": 50,
   "id": "189a6b32",
   "metadata": {},
   "outputs": [
    {
     "data": {
      "text/plain": [
       "'\\n S  a  m  p  l  e\\n 0  1  2  3  4  5\\n-6 -5 -4 -3 -2 -1\\n'"
      ]
     },
     "execution_count": 50,
     "metadata": {},
     "output_type": "execute_result"
    }
   ],
   "source": [
    "# String Manipulation\n",
    "'''\n",
    " S  a  m  p  l  e\n",
    " 0  1  2  3  4  5\n",
    "-6 -5 -4 -3 -2 -1\n",
    "'''"
   ]
  },
  {
   "cell_type": "code",
   "execution_count": 47,
   "id": "9b3bf4d7",
   "metadata": {},
   "outputs": [
    {
     "name": "stdout",
     "output_type": "stream",
     "text": [
      "sample\n",
      "sa\n",
      "sampl\n",
      "ample\n",
      "e\n",
      "l\n",
      "sampl\n",
      "elpmas\n"
     ]
    }
   ],
   "source": [
    "s = \"sample\"\n",
    "#print(s)\n",
    "#print(s[0:2])\n",
    "#print(s[:5])\n",
    "#print(s[1:])\n",
    "#print(s[-1])\n",
    "#print(s[-2:-1])\n",
    "#print(s[:-1])\n",
    "#print(s[::-1])"
   ]
  },
  {
   "cell_type": "code",
   "execution_count": null,
   "id": "dedf1739",
   "metadata": {},
   "outputs": [],
   "source": []
  }
 ],
 "metadata": {
  "kernelspec": {
   "display_name": "Python 3 (ipykernel)",
   "language": "python",
   "name": "python3"
  },
  "language_info": {
   "codemirror_mode": {
    "name": "ipython",
    "version": 3
   },
   "file_extension": ".py",
   "mimetype": "text/x-python",
   "name": "python",
   "nbconvert_exporter": "python",
   "pygments_lexer": "ipython3",
   "version": "3.9.12"
  }
 },
 "nbformat": 4,
 "nbformat_minor": 5
}
