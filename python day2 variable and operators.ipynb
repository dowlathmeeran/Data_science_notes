{
 "cells": [
  {
   "cell_type": "markdown",
   "id": "a4e178bf",
   "metadata": {},
   "source": [
    "data types three types:\n",
    "1.numeric\n",
    "2.sequence\n",
    "3.mapping"
   ]
  },
  {
   "cell_type": "markdown",
   "id": "2ff5acef",
   "metadata": {},
   "source": [
    "# numeric data type"
   ]
  },
  {
   "cell_type": "markdown",
   "id": "ab9465c9",
   "metadata": {},
   "source": [
    "1.integer---->-1 to -infinity and 1 to infinity and zero also"
   ]
  },
  {
   "cell_type": "markdown",
   "id": "dc59bc53",
   "metadata": {},
   "source": [
    "2.float--->2.34,1000.2435644"
   ]
  },
  {
   "cell_type": "markdown",
   "id": "1ab43e45",
   "metadata": {},
   "source": [
    "3.boolean--->0 , 1 --->0 means False 1 means True"
   ]
  },
  {
   "cell_type": "markdown",
   "id": "993ad19d",
   "metadata": {},
   "source": [
    "4.complex---->3i+j"
   ]
  },
  {
   "cell_type": "markdown",
   "id": "6fafa5eb",
   "metadata": {},
   "source": [
    "# sequence"
   ]
  },
  {
   "cell_type": "markdown",
   "id": "bdc05342",
   "metadata": {},
   "source": [
    "1.list\n",
    "2.tuple\n",
    "3.set\n",
    "4.string"
   ]
  },
  {
   "cell_type": "code",
   "execution_count": null,
   "id": "0bce85bc",
   "metadata": {},
   "outputs": [],
   "source": [
    "string---> text,our name ,our mail id"
   ]
  },
  {
   "cell_type": "markdown",
   "id": "7a0e194f",
   "metadata": {},
   "source": [
    "# mapping"
   ]
  },
  {
   "cell_type": "code",
   "execution_count": null,
   "id": "874c05ba",
   "metadata": {},
   "outputs": [],
   "source": [
    "1.dictionary----> key : value"
   ]
  },
  {
   "cell_type": "code",
   "execution_count": 5,
   "id": "f63e07e2",
   "metadata": {},
   "outputs": [],
   "source": [
    "a = \"Besant technologies\""
   ]
  },
  {
   "cell_type": "code",
   "execution_count": 6,
   "id": "9b8d4216",
   "metadata": {},
   "outputs": [
    {
     "data": {
      "text/plain": [
       "str"
      ]
     },
     "execution_count": 6,
     "metadata": {},
     "output_type": "execute_result"
    }
   ],
   "source": [
    "type(a)"
   ]
  },
  {
   "cell_type": "code",
   "execution_count": 7,
   "id": "d1f8b304",
   "metadata": {},
   "outputs": [
    {
     "data": {
      "text/plain": [
       "4424154048"
      ]
     },
     "execution_count": 7,
     "metadata": {},
     "output_type": "execute_result"
    }
   ],
   "source": [
    "id(a)"
   ]
  },
  {
   "cell_type": "markdown",
   "id": "435146d6",
   "metadata": {},
   "source": [
    "rules for assigning variable in python"
   ]
  },
  {
   "cell_type": "markdown",
   "id": "e4dbc241",
   "metadata": {},
   "source": [
    "do not start with numeric--->we can only start with a-z or A-Z or _"
   ]
  },
  {
   "cell_type": "markdown",
   "id": "2961d252",
   "metadata": {},
   "source": [
    "do not give space between variable---->we can use _ underscore instead od using space"
   ]
  },
  {
   "cell_type": "markdown",
   "id": "e7675c0c",
   "metadata": {},
   "source": [
    "do not give any special charcter and punctuations between variable"
   ]
  },
  {
   "cell_type": "code",
   "execution_count": null,
   "id": "3760431c",
   "metadata": {},
   "outputs": [],
   "source": [
    "we can numeric values when only the ending of the variable"
   ]
  },
  {
   "cell_type": "code",
   "execution_count": null,
   "id": "4fb51801",
   "metadata": {},
   "outputs": [],
   "source": []
  },
  {
   "cell_type": "code",
   "execution_count": 22,
   "id": "8e0e77b1",
   "metadata": {},
   "outputs": [],
   "source": [
    "_name2 = \"Besant technologies\""
   ]
  },
  {
   "cell_type": "code",
   "execution_count": 14,
   "id": "889f1a82",
   "metadata": {},
   "outputs": [],
   "source": [
    "first_name = \"Besant technologies\""
   ]
  },
  {
   "cell_type": "code",
   "execution_count": 20,
   "id": "c01f939b",
   "metadata": {},
   "outputs": [],
   "source": [
    "firstName = \"Besant technologies\"#-----> CamelCase"
   ]
  },
  {
   "cell_type": "markdown",
   "id": "e2238f59",
   "metadata": {},
   "source": [
    "# operators in python"
   ]
  },
  {
   "cell_type": "code",
   "execution_count": null,
   "id": "60eb3cf9",
   "metadata": {},
   "outputs": [],
   "source": [
    "1.arithmetic operator\n",
    "2.assignment operator\n",
    "3.comparison or relational operator\n",
    "4.logical orspecial operator\n",
    "5.membership operator\n",
    "6.identity operator"
   ]
  },
  {
   "cell_type": "markdown",
   "id": "57cefaaf",
   "metadata": {},
   "source": [
    "# arithmetic operator"
   ]
  },
  {
   "cell_type": "markdown",
   "id": "e7011934",
   "metadata": {},
   "source": [
    "addition"
   ]
  },
  {
   "cell_type": "code",
   "execution_count": 23,
   "id": "8ee70edf",
   "metadata": {},
   "outputs": [
    {
     "name": "stdout",
     "output_type": "stream",
     "text": [
      "15\n"
     ]
    }
   ],
   "source": [
    "a = 5\n",
    "b = 10\n",
    "c = a + b\n",
    "print(c)"
   ]
  },
  {
   "cell_type": "markdown",
   "id": "4c7cfffa",
   "metadata": {},
   "source": [
    "subraction"
   ]
  },
  {
   "cell_type": "code",
   "execution_count": 24,
   "id": "2ad2a496",
   "metadata": {},
   "outputs": [
    {
     "name": "stdout",
     "output_type": "stream",
     "text": [
      "90\n"
     ]
    }
   ],
   "source": [
    "a = 100\n",
    "b = 10\n",
    "c = a - b\n",
    "print(c)"
   ]
  },
  {
   "cell_type": "markdown",
   "id": "aaa76e41",
   "metadata": {},
   "source": [
    "multiplication"
   ]
  },
  {
   "cell_type": "code",
   "execution_count": 25,
   "id": "1fe76343",
   "metadata": {},
   "outputs": [
    {
     "name": "stdout",
     "output_type": "stream",
     "text": [
      "1000\n"
     ]
    }
   ],
   "source": [
    "a = 100\n",
    "b = 10\n",
    "c = a * b\n",
    "print(c)"
   ]
  },
  {
   "cell_type": "markdown",
   "id": "d391cdf8",
   "metadata": {},
   "source": [
    " normal division"
   ]
  },
  {
   "cell_type": "code",
   "execution_count": 28,
   "id": "97fc54aa",
   "metadata": {},
   "outputs": [
    {
     "name": "stdout",
     "output_type": "stream",
     "text": [
      "20.4\n"
     ]
    }
   ],
   "source": [
    "a = 102\n",
    "b = 5\n",
    "c = a / b\n",
    "print(c)"
   ]
  },
  {
   "cell_type": "markdown",
   "id": "fa1bbab9",
   "metadata": {},
   "source": [
    "floor division"
   ]
  },
  {
   "cell_type": "code",
   "execution_count": 27,
   "id": "595c4023",
   "metadata": {},
   "outputs": [
    {
     "name": "stdout",
     "output_type": "stream",
     "text": [
      "20\n"
     ]
    }
   ],
   "source": [
    "a = 102\n",
    "b = 5\n",
    "c = a // b\n",
    "print(c)"
   ]
  },
  {
   "cell_type": "code",
   "execution_count": 32,
   "id": "f46cd8b7",
   "metadata": {},
   "outputs": [
    {
     "data": {
      "text/plain": [
       "5.0"
      ]
     },
     "execution_count": 32,
     "metadata": {},
     "output_type": "execute_result"
    }
   ],
   "source": [
    "25//5.0"
   ]
  },
  {
   "cell_type": "markdown",
   "id": "40fa01fe",
   "metadata": {},
   "source": [
    "# exponential nothing but power"
   ]
  },
  {
   "cell_type": "code",
   "execution_count": 33,
   "id": "ae5e5f58",
   "metadata": {},
   "outputs": [
    {
     "data": {
      "text/plain": [
       "25"
      ]
     },
     "execution_count": 33,
     "metadata": {},
     "output_type": "execute_result"
    }
   ],
   "source": [
    "5**2"
   ]
  },
  {
   "cell_type": "code",
   "execution_count": 34,
   "id": "76e87f97",
   "metadata": {},
   "outputs": [
    {
     "name": "stdout",
     "output_type": "stream",
     "text": [
      "1000\n"
     ]
    }
   ],
   "source": [
    "a = 10\n",
    "b = 3\n",
    "c = a ** b\n",
    "print(c)"
   ]
  },
  {
   "cell_type": "markdown",
   "id": "7d6b6dd3",
   "metadata": {},
   "source": [
    "# modulo"
   ]
  },
  {
   "cell_type": "code",
   "execution_count": 35,
   "id": "d2f76745",
   "metadata": {},
   "outputs": [
    {
     "data": {
      "text/plain": [
       "1"
      ]
     },
     "execution_count": 35,
     "metadata": {},
     "output_type": "execute_result"
    }
   ],
   "source": [
    "23%2"
   ]
  },
  {
   "cell_type": "code",
   "execution_count": 36,
   "id": "9571807e",
   "metadata": {},
   "outputs": [
    {
     "name": "stdout",
     "output_type": "stream",
     "text": [
      "6\n"
     ]
    }
   ],
   "source": [
    "a = 106\n",
    "b = 10\n",
    "c = a % b\n",
    "print(c)"
   ]
  },
  {
   "cell_type": "markdown",
   "id": "9eb0119f",
   "metadata": {},
   "source": [
    "# assignment operator----->+=,-=,*=,/=,//=,%=,**="
   ]
  },
  {
   "cell_type": "markdown",
   "id": "303609d8",
   "metadata": {},
   "source": [
    "normal method assigning or updating value"
   ]
  },
  {
   "cell_type": "code",
   "execution_count": 37,
   "id": "fcedf62a",
   "metadata": {},
   "outputs": [
    {
     "name": "stdout",
     "output_type": "stream",
     "text": [
      "20\n"
     ]
    }
   ],
   "source": [
    "x = 10\n",
    "x = x + 10\n",
    "print(x)"
   ]
  },
  {
   "cell_type": "code",
   "execution_count": 38,
   "id": "8e0a7c08",
   "metadata": {},
   "outputs": [
    {
     "name": "stdout",
     "output_type": "stream",
     "text": [
      "20\n"
     ]
    }
   ],
   "source": [
    "x = 10\n",
    "x += 10\n",
    "print(x)"
   ]
  },
  {
   "cell_type": "code",
   "execution_count": 39,
   "id": "e674a479",
   "metadata": {},
   "outputs": [
    {
     "name": "stdout",
     "output_type": "stream",
     "text": [
      "25\n"
     ]
    }
   ],
   "source": [
    "x = 5\n",
    "x **= 2\n",
    "print(x)"
   ]
  },
  {
   "cell_type": "markdown",
   "id": "b657660a",
   "metadata": {},
   "source": [
    "# comparison or relational operator"
   ]
  },
  {
   "cell_type": "code",
   "execution_count": 40,
   "id": "7469e36e",
   "metadata": {},
   "outputs": [
    {
     "data": {
      "text/plain": [
       "True"
      ]
     },
     "execution_count": 40,
     "metadata": {},
     "output_type": "execute_result"
    }
   ],
   "source": [
    "5>2"
   ]
  },
  {
   "cell_type": "code",
   "execution_count": 41,
   "id": "6fe510a6",
   "metadata": {},
   "outputs": [
    {
     "data": {
      "text/plain": [
       "False"
      ]
     },
     "execution_count": 41,
     "metadata": {},
     "output_type": "execute_result"
    }
   ],
   "source": [
    "6<1"
   ]
  },
  {
   "cell_type": "code",
   "execution_count": 42,
   "id": "a1c134fb",
   "metadata": {},
   "outputs": [
    {
     "data": {
      "text/plain": [
       "True"
      ]
     },
     "execution_count": 42,
     "metadata": {},
     "output_type": "execute_result"
    }
   ],
   "source": [
    "5<=5"
   ]
  },
  {
   "cell_type": "code",
   "execution_count": 43,
   "id": "39ebfdb7",
   "metadata": {},
   "outputs": [
    {
     "data": {
      "text/plain": [
       "True"
      ]
     },
     "execution_count": 43,
     "metadata": {},
     "output_type": "execute_result"
    }
   ],
   "source": [
    "5>=3"
   ]
  },
  {
   "cell_type": "code",
   "execution_count": 44,
   "id": "f370b747",
   "metadata": {},
   "outputs": [
    {
     "data": {
      "text/plain": [
       "False"
      ]
     },
     "execution_count": 44,
     "metadata": {},
     "output_type": "execute_result"
    }
   ],
   "source": [
    "1!=1"
   ]
  },
  {
   "cell_type": "code",
   "execution_count": 45,
   "id": "e60161fb",
   "metadata": {},
   "outputs": [
    {
     "data": {
      "text/plain": [
       "True"
      ]
     },
     "execution_count": 45,
     "metadata": {},
     "output_type": "execute_result"
    }
   ],
   "source": [
    "1==1"
   ]
  },
  {
   "cell_type": "code",
   "execution_count": 46,
   "id": "d5f05441",
   "metadata": {},
   "outputs": [],
   "source": [
    "my_friend_mark=90\n",
    "my_mark=70"
   ]
  },
  {
   "cell_type": "code",
   "execution_count": 47,
   "id": "5fd02dd8",
   "metadata": {},
   "outputs": [
    {
     "data": {
      "text/plain": [
       "False"
      ]
     },
     "execution_count": 47,
     "metadata": {},
     "output_type": "execute_result"
    }
   ],
   "source": [
    "my_friend_mark<my_mark"
   ]
  },
  {
   "cell_type": "markdown",
   "id": "c7b39af9",
   "metadata": {},
   "source": [
    "# logical or special operator"
   ]
  },
  {
   "cell_type": "markdown",
   "id": "a53a597c",
   "metadata": {},
   "source": [
    "and,or,not"
   ]
  },
  {
   "cell_type": "code",
   "execution_count": 49,
   "id": "58f33e9c",
   "metadata": {},
   "outputs": [
    {
     "data": {
      "text/plain": [
       "True"
      ]
     },
     "execution_count": 49,
     "metadata": {},
     "output_type": "execute_result"
    }
   ],
   "source": [
    "3==3 and 5<6"
   ]
  },
  {
   "cell_type": "code",
   "execution_count": 51,
   "id": "04e088d4",
   "metadata": {},
   "outputs": [
    {
     "data": {
      "text/plain": [
       "True"
      ]
     },
     "execution_count": 51,
     "metadata": {},
     "output_type": "execute_result"
    }
   ],
   "source": [
    "True and True"
   ]
  },
  {
   "cell_type": "code",
   "execution_count": 52,
   "id": "dc10a9e0",
   "metadata": {},
   "outputs": [
    {
     "data": {
      "text/plain": [
       "False"
      ]
     },
     "execution_count": 52,
     "metadata": {},
     "output_type": "execute_result"
    }
   ],
   "source": [
    "True and False"
   ]
  },
  {
   "cell_type": "code",
   "execution_count": 53,
   "id": "055a7d2b",
   "metadata": {},
   "outputs": [
    {
     "data": {
      "text/plain": [
       "False"
      ]
     },
     "execution_count": 53,
     "metadata": {},
     "output_type": "execute_result"
    }
   ],
   "source": [
    "False and True"
   ]
  },
  {
   "cell_type": "code",
   "execution_count": 54,
   "id": "54e66d5d",
   "metadata": {},
   "outputs": [
    {
     "data": {
      "text/plain": [
       "False"
      ]
     },
     "execution_count": 54,
     "metadata": {},
     "output_type": "execute_result"
    }
   ],
   "source": [
    "False and False"
   ]
  },
  {
   "cell_type": "code",
   "execution_count": 50,
   "id": "6f76be9f",
   "metadata": {},
   "outputs": [
    {
     "data": {
      "text/plain": [
       "True"
      ]
     },
     "execution_count": 50,
     "metadata": {},
     "output_type": "execute_result"
    }
   ],
   "source": [
    "3!=3 or 5<6"
   ]
  },
  {
   "cell_type": "code",
   "execution_count": 55,
   "id": "1a1b70ba",
   "metadata": {},
   "outputs": [
    {
     "data": {
      "text/plain": [
       "True"
      ]
     },
     "execution_count": 55,
     "metadata": {},
     "output_type": "execute_result"
    }
   ],
   "source": [
    "True or False"
   ]
  },
  {
   "cell_type": "code",
   "execution_count": 56,
   "id": "377cc199",
   "metadata": {},
   "outputs": [
    {
     "data": {
      "text/plain": [
       "True"
      ]
     },
     "execution_count": 56,
     "metadata": {},
     "output_type": "execute_result"
    }
   ],
   "source": [
    "False or True"
   ]
  },
  {
   "cell_type": "code",
   "execution_count": 57,
   "id": "aeb8c251",
   "metadata": {},
   "outputs": [
    {
     "data": {
      "text/plain": [
       "False"
      ]
     },
     "execution_count": 57,
     "metadata": {},
     "output_type": "execute_result"
    }
   ],
   "source": [
    "False or False"
   ]
  },
  {
   "cell_type": "code",
   "execution_count": 58,
   "id": "5025c017",
   "metadata": {},
   "outputs": [
    {
     "data": {
      "text/plain": [
       "True"
      ]
     },
     "execution_count": 58,
     "metadata": {},
     "output_type": "execute_result"
    }
   ],
   "source": [
    "True or True"
   ]
  },
  {
   "cell_type": "code",
   "execution_count": 59,
   "id": "8c0f8e13",
   "metadata": {},
   "outputs": [
    {
     "data": {
      "text/plain": [
       "False"
      ]
     },
     "execution_count": 59,
     "metadata": {},
     "output_type": "execute_result"
    }
   ],
   "source": [
    "not(True)"
   ]
  },
  {
   "cell_type": "code",
   "execution_count": 60,
   "id": "3e4a252c",
   "metadata": {},
   "outputs": [
    {
     "data": {
      "text/plain": [
       "True"
      ]
     },
     "execution_count": 60,
     "metadata": {},
     "output_type": "execute_result"
    }
   ],
   "source": [
    "not(False)"
   ]
  },
  {
   "cell_type": "markdown",
   "id": "dd09fab8",
   "metadata": {},
   "source": [
    "# membership operator"
   ]
  },
  {
   "cell_type": "markdown",
   "id": "147351c2",
   "metadata": {},
   "source": [
    "in,not in"
   ]
  },
  {
   "cell_type": "code",
   "execution_count": 61,
   "id": "6e32a810",
   "metadata": {},
   "outputs": [],
   "source": [
    "a = \"Besant Technology\""
   ]
  },
  {
   "cell_type": "code",
   "execution_count": 62,
   "id": "df70118f",
   "metadata": {},
   "outputs": [
    {
     "data": {
      "text/plain": [
       "True"
      ]
     },
     "execution_count": 62,
     "metadata": {},
     "output_type": "execute_result"
    }
   ],
   "source": [
    "\"t\" in a"
   ]
  },
  {
   "cell_type": "code",
   "execution_count": 63,
   "id": "7aa79c16",
   "metadata": {},
   "outputs": [
    {
     "data": {
      "text/plain": [
       "False"
      ]
     },
     "execution_count": 63,
     "metadata": {},
     "output_type": "execute_result"
    }
   ],
   "source": [
    "\"d\" in a"
   ]
  },
  {
   "cell_type": "code",
   "execution_count": 64,
   "id": "ced0b4cb",
   "metadata": {},
   "outputs": [
    {
     "data": {
      "text/plain": [
       "False"
      ]
     },
     "execution_count": 64,
     "metadata": {},
     "output_type": "execute_result"
    }
   ],
   "source": [
    "\"t\" not in a"
   ]
  },
  {
   "cell_type": "code",
   "execution_count": 65,
   "id": "e917a19d",
   "metadata": {},
   "outputs": [
    {
     "data": {
      "text/plain": [
       "True"
      ]
     },
     "execution_count": 65,
     "metadata": {},
     "output_type": "execute_result"
    }
   ],
   "source": [
    "\"d\" not in a"
   ]
  },
  {
   "cell_type": "markdown",
   "id": "e081db85",
   "metadata": {},
   "source": [
    "# identity operator"
   ]
  },
  {
   "cell_type": "markdown",
   "id": "78b71f2b",
   "metadata": {},
   "source": [
    "is,not is"
   ]
  },
  {
   "cell_type": "code",
   "execution_count": 68,
   "id": "3b431126",
   "metadata": {},
   "outputs": [],
   "source": [
    "a = 10\n",
    "b = a\n",
    "c = 15"
   ]
  },
  {
   "cell_type": "code",
   "execution_count": 67,
   "id": "9fa8e91e",
   "metadata": {},
   "outputs": [
    {
     "data": {
      "text/plain": [
       "True"
      ]
     },
     "execution_count": 67,
     "metadata": {},
     "output_type": "execute_result"
    }
   ],
   "source": [
    "a is b"
   ]
  },
  {
   "cell_type": "code",
   "execution_count": 69,
   "id": "10c30dec",
   "metadata": {},
   "outputs": [
    {
     "data": {
      "text/plain": [
       "False"
      ]
     },
     "execution_count": 69,
     "metadata": {},
     "output_type": "execute_result"
    }
   ],
   "source": [
    "a is c"
   ]
  },
  {
   "cell_type": "code",
   "execution_count": 70,
   "id": "53158ddf",
   "metadata": {},
   "outputs": [
    {
     "data": {
      "text/plain": [
       "False"
      ]
     },
     "execution_count": 70,
     "metadata": {},
     "output_type": "execute_result"
    }
   ],
   "source": [
    "a is not b"
   ]
  },
  {
   "cell_type": "code",
   "execution_count": 71,
   "id": "7995cd32",
   "metadata": {},
   "outputs": [
    {
     "data": {
      "text/plain": [
       "True"
      ]
     },
     "execution_count": 71,
     "metadata": {},
     "output_type": "execute_result"
    }
   ],
   "source": [
    "a is not c"
   ]
  }
 ],
 "metadata": {
  "kernelspec": {
   "display_name": "Python 3 (ipykernel)",
   "language": "python",
   "name": "python3"
  },
  "language_info": {
   "codemirror_mode": {
    "name": "ipython",
    "version": 3
   },
   "file_extension": ".py",
   "mimetype": "text/x-python",
   "name": "python",
   "nbconvert_exporter": "python",
   "pygments_lexer": "ipython3",
   "version": "3.9.12"
  }
 },
 "nbformat": 4,
 "nbformat_minor": 5
}
